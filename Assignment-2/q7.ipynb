{
 "cells": [
  {
   "cell_type": "code",
   "execution_count": null,
   "metadata": {},
   "outputs": [],
   "source": [
    "n=int(input(\"Enter the range \"))\n",
    "l=[]\n",
    "t=()\n",
    "str='Prime'\n",
    "for i in range(2,n+1):\n",
    "    for j in range(2,i):\n",
    "        if (i%j==0):\n",
    "            str='Non Prime'\n",
    "            break\n",
    "        else:\n",
    "            str='Prime'\n",
    "    t=(i,str)        \n",
    "    l.append(t)\n",
    "l    "
   ]
  }
 ],
 "metadata": {
  "kernelspec": {
   "display_name": "Python 3",
   "language": "python",
   "name": "python3"
  },
  "language_info": {
   "codemirror_mode": {
    "name": "ipython",
    "version": 3
   },
   "file_extension": ".py",
   "mimetype": "text/x-python",
   "name": "python",
   "nbconvert_exporter": "python",
   "pygments_lexer": "ipython3",
   "version": "3.8.3"
  }
 },
 "nbformat": 4,
 "nbformat_minor": 4
}
