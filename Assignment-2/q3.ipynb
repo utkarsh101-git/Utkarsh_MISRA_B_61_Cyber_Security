{
 "cells": [
  {
   "cell_type": "code",
   "execution_count": null,
   "metadata": {},
   "outputs": [],
   "source": [
    "str=\"This Is graphic Era demmeD to Be University\"\n",
    "u=0\n",
    "l=0\n",
    "for i in str:\n",
    "    if(i!=\" \"):\n",
    "        if(i.isupper()):\n",
    "            u+=1\n",
    "        else:\n",
    "            l+=1\n",
    "print(\"{} upper case alphabets \".format(u))\n",
    "print(\"{} lower case alphabets \".format(l))"
   ]
  }
 ],
 "metadata": {
  "kernelspec": {
   "display_name": "Python 3",
   "language": "python",
   "name": "python3"
  },
  "language_info": {
   "codemirror_mode": {
    "name": "ipython",
    "version": 3
   },
   "file_extension": ".py",
   "mimetype": "text/x-python",
   "name": "python",
   "nbconvert_exporter": "python",
   "pygments_lexer": "ipython3",
   "version": "3.8.3"
  }
 },
 "nbformat": 4,
 "nbformat_minor": 4
}
