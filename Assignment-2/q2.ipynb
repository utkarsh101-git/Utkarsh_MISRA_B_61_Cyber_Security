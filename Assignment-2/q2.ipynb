{
 "cells": [
  {
   "cell_type": "code",
   "execution_count": null,
   "metadata": {},
   "outputs": [],
   "source": [
    "l=int(input(\"Enter the lower range \"))\n",
    "h=int(input(\"Enter the higher range \"))\n",
    "n=int(input(\"enter the number to be checked \"))\n",
    "if n in range(l,h+1):\n",
    "    print(\"the {} is in range\".format(n))\n",
    "else:\n",
    "    print(\"{} is Outside the range\".format(n))"
   ]
  }
 ],
 "metadata": {
  "kernelspec": {
   "display_name": "Python 3",
   "language": "python",
   "name": "python3"
  },
  "language_info": {
   "codemirror_mode": {
    "name": "ipython",
    "version": 3
   },
   "file_extension": ".py",
   "mimetype": "text/x-python",
   "name": "python",
   "nbconvert_exporter": "python",
   "pygments_lexer": "ipython3",
   "version": "3.8.3"
  }
 },
 "nbformat": 4,
 "nbformat_minor": 4
}
